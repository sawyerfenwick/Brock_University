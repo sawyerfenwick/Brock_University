{
 "cells": [
  {
   "cell_type": "markdown",
   "id": "e83dbd27-2933-4613-9208-0465a5329a78",
   "metadata": {},
   "source": [
    "# ExecutorFactory\n",
    "\n",
    "The executor factori creates a new executor given the executor context and plan node."
   ]
  },
  {
   "cell_type": "code",
   "execution_count": null,
   "id": "29f479ab-58d3-4477-8164-f8d8e567337d",
   "metadata": {},
   "outputs": [],
   "source": [
    "class ExecutorFactory(): \n",
    "    \"\"\"\n",
    "    ExecutorFactory creates executors for arbitrary plan nodes\n",
    "    \n",
    "    Attributes\n",
    "    ----------\n",
    "        tx_context: Context\n",
    "\n",
    "    Methods\n",
    "    ------\n",
    "        createExecution():\n",
    "            returns the execution plan of query\n",
    "    \"\"\"\n",
    "    def __init__(self,tx_context):\n",
    "        self.tx_context = tx_context\n",
    "        \n",
    "    def createExecution(self,plan):\n",
    "        plan_type = plan.getType()\n",
    "        if (plan_type == \"SeqScan\"):\n",
    "            print(\"SeqScan\")\n",
    "            plan.__class__ = SeqScanPlanNode\n",
    "            return SeqScanExecutor(self.tx_context, plan)\n",
    "        elif (plan_type == \"NestedLoopJoin\"):\n",
    "            print(\"NestedLoopJoin\")\n",
    "            plan.__class__ = NestedLoopJoinPlanNode\n",
    "            left = ExecutorFactory(self.tx_context).createExecution(plan.getLeftPlan())\n",
    "            right = ExecutorFactory(self.tx_context).createExecution(plan.getRightPlan())\n",
    "            return NestedLoopJoinExecutor(self.tx_context, plan, left,right);\n",
    "        elif (plan_type ==\"Aggregation\"):\n",
    "            print(\"Aggregation\")\n",
    "            plan.__class__ = AggregationPlanNode\n",
    "            child_executor = ExecutorFactory(self.tx_context).createExecution(plan.getChildPlan())\n",
    "            return AggregationExecutor(self.tx_context, plan, child_executor)\n",
    "        \n",
    "              \n",
    "        print(\"Error - Operator not found\")\n",
    "        return                                                   "
   ]
  }
 ],
 "metadata": {
  "kernelspec": {
   "display_name": "Python 3 (ipykernel)",
   "language": "python",
   "name": "python3"
  },
  "language_info": {
   "codemirror_mode": {
    "name": "ipython",
    "version": 3
   },
   "file_extension": ".py",
   "mimetype": "text/x-python",
   "name": "python",
   "nbconvert_exporter": "python",
   "pygments_lexer": "ipython3",
   "version": "3.9.7"
  }
 },
 "nbformat": 4,
 "nbformat_minor": 5
}
