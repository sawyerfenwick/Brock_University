{
 "cells": [
  {
   "cell_type": "markdown",
   "id": "5b583cbb-ec7a-4c74-b2df-3391e9ca9973",
   "metadata": {},
   "source": [
    "# Disk Manager Placeholder\n",
    "\n",
    "The sequencial scan operator usually calls the buffer manager and disk manager to get data from a table.\n",
    "\n",
    "We are ignoring these modules, and therefore this file contains the iterator that the sequential scan calls"
   ]
  },
  {
   "cell_type": "code",
   "execution_count": null,
   "id": "d14b277d-3473-42a5-9ab4-87674c5d5e65",
   "metadata": {},
   "outputs": [],
   "source": [
    "#The interface for database files on disk. Each table is represented by a\n",
    "#single DbFile. DbFiles can fetch pages and iterate through tuples. Each\n",
    "#file has a unique id used to store metadata about the table in the Catalog.\n",
    "#DbFiles are generally accessed through the buffer pool, rather than directly\n",
    "#by operators.\n",
    "class DBFile():\n",
    "    def __init__(self,iterator):\n",
    "        self.iterator = iterator\n",
    "    \n",
    "    def getIterator(self):\n",
    "        return self.iterator\n",
    "    \n",
    "class DBFileIterator():\n",
    "    def __init__(self,db_file):\n",
    "        self.db_file = db_file\n",
    "        self.file = None\n",
    "    \n",
    "    def openIt(self):\n",
    "        self.file = open(self.db_file, \"r\") \n",
    "    \n",
    "    def getNext(self):\n",
    "        if(self.file == None):\n",
    "            print(\"File not opened\")\n",
    "        else:         \n",
    "            next_line = self.file.readline()\n",
    "            if next_line != \"\":\n",
    "                next_line = next_line.strip()\n",
    "                content = next_line.split(\",\")\n",
    "                return content\n",
    "        return None\n",
    "    \n",
    "    def closeIt(self):\n",
    "        # Close opend file\n",
    "        self.file.close()\n",
    "        \n",
    "    def resetIt(self):\n",
    "        self.file.seek(0)\n",
    "        "
   ]
  }
 ],
 "metadata": {
  "kernelspec": {
   "display_name": "Python 3 (ipykernel)",
   "language": "python",
   "name": "python3"
  },
  "language_info": {
   "codemirror_mode": {
    "name": "ipython",
    "version": 3
   },
   "file_extension": ".py",
   "mimetype": "text/x-python",
   "name": "python",
   "nbconvert_exporter": "python",
   "pygments_lexer": "ipython3",
   "version": "3.9.7"
  }
 },
 "nbformat": 4,
 "nbformat_minor": 5
}
