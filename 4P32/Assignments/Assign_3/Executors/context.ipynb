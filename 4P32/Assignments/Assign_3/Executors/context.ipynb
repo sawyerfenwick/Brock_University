{
 "cells": [
  {
   "cell_type": "markdown",
   "id": "ad3cc001-8995-402b-9c57-187c74fde84e",
   "metadata": {},
   "source": [
    "# ExecutorContext \n",
    "\n",
    "It stores all the context necessary for the transaction to run a query i.e., an executor."
   ]
  },
  {
   "cell_type": "code",
   "execution_count": null,
   "id": "9b2f5c8d-4f16-4829-aeb4-5a0bfbe02014",
   "metadata": {},
   "outputs": [],
   "source": [
    "class Context():\n",
    "    \"\"\"\n",
    "    A class storing all the necesasry info (e.g., DB Catalog, BufferPoolManager, LockManager, TransactionManager) for the transaction that is executing the query.\n",
    "\n",
    "    Attributes\n",
    "    ----------\n",
    "    catalog : Catalog\n",
    "        DB catalog\n",
    "\n",
    "    Methods\n",
    "    ------\n",
    "    getCatalog():\n",
    "        return the DB catalog\n",
    "    \"\"\"\n",
    "    \n",
    "    def __init__(self, catalog, buffer_pool_manager=None, transaction_manager=None, lock_manager=None):\n",
    "        self.catalog = catalog\n",
    "       \n",
    "    def getCatalog(self):\n",
    "        return self.catalog"
   ]
  }
 ],
 "metadata": {
  "kernelspec": {
   "display_name": "Python 3 (ipykernel)",
   "language": "python",
   "name": "python3"
  },
  "language_info": {
   "codemirror_mode": {
    "name": "ipython",
    "version": 3
   },
   "file_extension": ".py",
   "mimetype": "text/x-python",
   "name": "python",
   "nbconvert_exporter": "python",
   "pygments_lexer": "ipython3",
   "version": "3.9.7"
  }
 },
 "nbformat": 4,
 "nbformat_minor": 5
}
