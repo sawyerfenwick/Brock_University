{
 "cells": [
  {
   "cell_type": "markdown",
   "id": "660a75db-cd83-4a8e-86db-a3fa2e33de6c",
   "metadata": {},
   "source": [
    "# ExecutionEngine\n",
    "\n",
    "It receives a query plan, creates its execution plan with the query operators and execute the plan."
   ]
  },
  {
   "cell_type": "code",
   "execution_count": null,
   "id": "46fe3ac8-02f3-431a-8188-bbb16d49ebd4",
   "metadata": {},
   "outputs": [],
   "source": [
    "class ExecutionEngine:\n",
    "    \"\"\"\n",
    "    The ExecutionEngine class executes query plans.\n",
    "    \n",
    "    Attributes\n",
    "    ----------\n",
    "        tx_context: Context\n",
    "\n",
    "    Methods\n",
    "    ------\n",
    "        execute():\n",
    "            returns the results of a query\n",
    "    \"\"\"\n",
    "    def __init__(self,tx_context):\n",
    "        self.tx_context = tx_context\n",
    "        \n",
    "    def execute(self,plan):\n",
    "        \"\"\"Execute a query plan.\n",
    "\n",
    "        Parameters\n",
    "        ----------\n",
    "        plan : Plan\n",
    "            Query plan\n",
    "\n",
    "        \"\"\"\n",
    "        \n",
    "        executor = ExecutorFactory(self.tx_context)\n",
    "        root_operator = executor.createExecution(plan)\n",
    "        root_operator.openOp()\n",
    "        result = []\n",
    "        next_tuple = root_operator.getNext()\n",
    "        while(next_tuple != None):\n",
    "            result.append(next_tuple)\n",
    "            next_tuple = root_operator.getNext()\n",
    "            \n",
    "        root_operator.closeOp()\n",
    "        return result"
   ]
  },
  {
   "cell_type": "code",
   "execution_count": null,
   "id": "19c03941-3ca9-4161-9c62-f523924b66f5",
   "metadata": {},
   "outputs": [],
   "source": []
  }
 ],
 "metadata": {
  "kernelspec": {
   "display_name": "Python 3 (ipykernel)",
   "language": "python",
   "name": "python3"
  },
  "language_info": {
   "codemirror_mode": {
    "name": "ipython",
    "version": 3
   },
   "file_extension": ".py",
   "mimetype": "text/x-python",
   "name": "python",
   "nbconvert_exporter": "python",
   "pygments_lexer": "ipython3",
   "version": "3.9.7"
  }
 },
 "nbformat": 4,
 "nbformat_minor": 5
}
